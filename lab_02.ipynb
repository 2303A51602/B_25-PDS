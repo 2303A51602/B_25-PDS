{
  "nbformat": 4,
  "nbformat_minor": 0,
  "metadata": {
    "colab": {
      "provenance": [],
      "toc_visible": true,
      "authorship_tag": "ABX9TyOEwrNyOgNAiEQoNHmT0LdZ",
      "include_colab_link": true
    },
    "kernelspec": {
      "name": "python3",
      "display_name": "Python 3"
    },
    "language_info": {
      "name": "python"
    }
  },
  "cells": [
    {
      "cell_type": "markdown",
      "metadata": {
        "id": "view-in-github",
        "colab_type": "text"
      },
      "source": [
        "<a href=\"https://colab.research.google.com/github/2303A51602/B_25-PDS/blob/main/lab_02.ipynb\" target=\"_parent\"><img src=\"https://colab.research.google.com/assets/colab-badge.svg\" alt=\"Open In Colab\"/></a>"
      ]
    },
    {
      "cell_type": "code",
      "source": [
        "import numpy as np\n",
        "import pandas as pd"
      ],
      "metadata": {
        "id": "rTdDvFp9CMIo"
      },
      "execution_count": 2,
      "outputs": []
    },
    {
      "cell_type": "code",
      "source": [
        "monthly_temps=np.array([15.5, 16.8, 20.1, 25.3, 30.5, 33.0, 32.0, 31.4, 28.8, 22.5, 18.0, 16.0])"
      ],
      "metadata": {
        "id": "79y6rhWsCbIc"
      },
      "execution_count": 3,
      "outputs": []
    },
    {
      "cell_type": "code",
      "source": [
        "hottest_month = np.argmax(monthly_temps) + 1\n",
        "coldest_month = np.argmin(monthly_temps) + 1\n",
        "print(\"hottest month is: \",hottest_month)\n",
        "print(\"coldest month is: \",coldest_month)"
      ],
      "metadata": {
        "colab": {
          "base_uri": "https://localhost:8080/"
        },
        "id": "b1BjGdJMCcfX",
        "outputId": "b65b1d84-8940-412a-ffb8-0c371fce2b2d"
      },
      "execution_count": 4,
      "outputs": [
        {
          "output_type": "stream",
          "name": "stdout",
          "text": [
            "hottest month is:  6\n",
            "coldest month is:  1\n"
          ]
        }
      ]
    },
    {
      "cell_type": "code",
      "source": [
        "normalized_temps = (monthly_temps - np.min(monthly_temps)) / (np.max(monthly_temps) - np.min(monthly_temps))\n",
        "print(\"normalised temparature are:\",normalized_temps)"
      ],
      "metadata": {
        "colab": {
          "base_uri": "https://localhost:8080/"
        },
        "id": "4frsq4aTCf_-",
        "outputId": "51ae51f8-3e9c-48df-a422-7ae8bd40d58d"
      },
      "execution_count": 5,
      "outputs": [
        {
          "output_type": "stream",
          "name": "stdout",
          "text": [
            "normalised temparature are: [0.         0.07428571 0.26285714 0.56       0.85714286 1.\n",
            " 0.94285714 0.90857143 0.76       0.4        0.14285714 0.02857143]\n"
          ]
        }
      ]
    },
    {
      "cell_type": "code",
      "metadata": {
        "colab": {
          "base_uri": "https://localhost:8080/"
        },
        "id": "7776dbf1",
        "outputId": "880448ae-1af6-4804-d8df-9535825a2562"
      },
      "source": [
        "average_temp = np.mean(monthly_temps)\n",
        "print(\"average temperature is:\", average_temp)"
      ],
      "execution_count": 7,
      "outputs": [
        {
          "output_type": "stream",
          "name": "stdout",
          "text": [
            "average temperature is: 24.158333333333335\n"
          ]
        }
      ]
    }
  ]
}